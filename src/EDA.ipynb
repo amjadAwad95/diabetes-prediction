{
 "cells": [
  {
   "cell_type": "code",
   "id": "initial_id",
   "metadata": {
    "collapsed": true,
    "ExecuteTime": {
     "end_time": "2024-11-14T17:44:30.336171Z",
     "start_time": "2024-11-14T17:44:30.214644Z"
    }
   },
   "source": [
    "import pandas as pd\n",
    "import numpy as np\n",
    "import matplotlib.pyplot as plt\n",
    "\n",
    "%reload_ext autoreload\n",
    "%autoreload 2"
   ],
   "outputs": [],
   "execution_count": 43
  },
  {
   "metadata": {},
   "cell_type": "markdown",
   "source": "### Loading data",
   "id": "ebc7529e8de2b154"
  },
  {
   "metadata": {
    "ExecuteTime": {
     "end_time": "2024-11-14T17:44:35.092760Z",
     "start_time": "2024-11-14T17:44:30.341430Z"
    }
   },
   "cell_type": "code",
   "source": [
    "from datasets import get_dataset_split_names,load_dataset\n",
    "\n",
    "path=\"Bena345/cdc-diabetes-health-indicators\"\n",
    "\n",
    "split_names=get_dataset_split_names(path)\n",
    "train_size=10000\n",
    "test_size=5000\n",
    "\n",
    "diabetes=load_dataset(path,split=[f'{split_names[0]}[:{train_size}]', f'{split_names[1]}[:{train_size}]'])\n",
    "diabetes\n"
   ],
   "id": "6f55324601f79094",
   "outputs": [
    {
     "data": {
      "text/plain": [
       "[Dataset({\n",
       "     features: ['ID', 'BMI', 'PhysHlth', 'Age', 'HighBP', 'HighChol', 'CholCheck', 'Smoker', 'Stroke', 'HeartDiseaseorAttack', 'PhysActivity', 'Fruits', 'Veggies', 'HvyAlcoholConsump', 'AnyHealthcare', 'NoDocbcCost', 'GenHlth', 'MentHlth', 'DiffWalk', 'Sex', 'Education', 'Income', 'Diabetes_binary'],\n",
       "     num_rows: 10000\n",
       " }),\n",
       " Dataset({\n",
       "     features: ['ID', 'BMI', 'PhysHlth', 'Age', 'HighBP', 'HighChol', 'CholCheck', 'Smoker', 'Stroke', 'HeartDiseaseorAttack', 'PhysActivity', 'Fruits', 'Veggies', 'HvyAlcoholConsump', 'AnyHealthcare', 'NoDocbcCost', 'GenHlth', 'MentHlth', 'DiffWalk', 'Sex', 'Education', 'Income', 'Diabetes_binary'],\n",
       "     num_rows: 10000\n",
       " })]"
      ]
     },
     "execution_count": 44,
     "metadata": {},
     "output_type": "execute_result"
    }
   ],
   "execution_count": 44
  },
  {
   "metadata": {},
   "cell_type": "markdown",
   "source": "### splitting data",
   "id": "71ecf5422471293a"
  },
  {
   "metadata": {
    "ExecuteTime": {
     "end_time": "2024-11-14T17:44:35.210705Z",
     "start_time": "2024-11-14T17:44:35.103237Z"
    }
   },
   "cell_type": "code",
   "source": [
    "diabetes_train_dataframe=diabetes[0].to_pandas()\n",
    "diabetes_test_dataframe=diabetes[1].to_pandas()"
   ],
   "id": "2ed47c10431d63d4",
   "outputs": [],
   "execution_count": 45
  },
  {
   "metadata": {
    "ExecuteTime": {
     "end_time": "2024-11-14T17:44:35.322770Z",
     "start_time": "2024-11-14T17:44:35.218884Z"
    }
   },
   "cell_type": "code",
   "source": "diabetes_train_dataframe.info()",
   "id": "a15db6e6355b07e2",
   "outputs": [
    {
     "name": "stdout",
     "output_type": "stream",
     "text": [
      "<class 'pandas.core.frame.DataFrame'>\n",
      "RangeIndex: 10000 entries, 0 to 9999\n",
      "Data columns (total 23 columns):\n",
      " #   Column                Non-Null Count  Dtype  \n",
      "---  ------                --------------  -----  \n",
      " 0   ID                    10000 non-null  int64  \n",
      " 1   BMI                   10000 non-null  float32\n",
      " 2   PhysHlth              10000 non-null  float32\n",
      " 3   Age                   10000 non-null  object \n",
      " 4   HighBP                10000 non-null  object \n",
      " 5   HighChol              10000 non-null  object \n",
      " 6   CholCheck             10000 non-null  object \n",
      " 7   Smoker                10000 non-null  object \n",
      " 8   Stroke                10000 non-null  object \n",
      " 9   HeartDiseaseorAttack  10000 non-null  object \n",
      " 10  PhysActivity          10000 non-null  object \n",
      " 11  Fruits                10000 non-null  object \n",
      " 12  Veggies               10000 non-null  object \n",
      " 13  HvyAlcoholConsump     10000 non-null  object \n",
      " 14  AnyHealthcare         10000 non-null  object \n",
      " 15  NoDocbcCost           10000 non-null  object \n",
      " 16  GenHlth               10000 non-null  object \n",
      " 17  MentHlth              10000 non-null  object \n",
      " 18  DiffWalk              10000 non-null  object \n",
      " 19  Sex                   10000 non-null  object \n",
      " 20  Education             10000 non-null  object \n",
      " 21  Income                10000 non-null  object \n",
      " 22  Diabetes_binary       10000 non-null  object \n",
      "dtypes: float32(2), int64(1), object(20)\n",
      "memory usage: 1.7+ MB\n"
     ]
    }
   ],
   "execution_count": 46
  },
  {
   "metadata": {
    "ExecuteTime": {
     "end_time": "2024-11-14T17:44:35.513836Z",
     "start_time": "2024-11-14T17:44:35.406857Z"
    }
   },
   "cell_type": "code",
   "source": "diabetes_train_dataframe.head(5)",
   "id": "e4fd72bcec3ec13f",
   "outputs": [
    {
     "data": {
      "text/plain": [
       "       ID   BMI  PhysHlth          Age HighBP HighChol CholCheck Smoker  \\\n",
       "0  114414  29.0       0.0     65 to 69      0        1         1      0   \n",
       "1  168896  32.0       0.0  80 or older      1        1         1      0   \n",
       "2   68354  25.0       5.0     65 to 69      1        0         1      1   \n",
       "3  121194  24.0       0.0  80 or older      1        0         1      0   \n",
       "4  141150  31.0       0.0     25 to 29      0        0         1      0   \n",
       "\n",
       "  Stroke HeartDiseaseorAttack  ... HvyAlcoholConsump AnyHealthcare  \\\n",
       "0      0                    0  ...                 0             1   \n",
       "1      0                    0  ...                 0             1   \n",
       "2      0                    0  ...                 0             1   \n",
       "3      0                    0  ...                 0             1   \n",
       "4      0                    1  ...                 0             1   \n",
       "\n",
       "  NoDocbcCost    GenHlth MentHlth DiffWalk Sex            Education Income  \\\n",
       "0           1       Poor        0        0   0                    6      7   \n",
       "1           0       Poor        0        0   0  Some College Degree      4   \n",
       "2           0       Fair        0        0   1                    6      2   \n",
       "3           0  Very Good        0        1   0      Advanced Degree      5   \n",
       "4           0  Very Good        5        0   0                    6      6   \n",
       "\n",
       "  Diabetes_binary  \n",
       "0    Non-Diabetic  \n",
       "1    Non-Diabetic  \n",
       "2    Non-Diabetic  \n",
       "3    Non-Diabetic  \n",
       "4        Diabetic  \n",
       "\n",
       "[5 rows x 23 columns]"
      ],
      "text/html": [
       "<div>\n",
       "<style scoped>\n",
       "    .dataframe tbody tr th:only-of-type {\n",
       "        vertical-align: middle;\n",
       "    }\n",
       "\n",
       "    .dataframe tbody tr th {\n",
       "        vertical-align: top;\n",
       "    }\n",
       "\n",
       "    .dataframe thead th {\n",
       "        text-align: right;\n",
       "    }\n",
       "</style>\n",
       "<table border=\"1\" class=\"dataframe\">\n",
       "  <thead>\n",
       "    <tr style=\"text-align: right;\">\n",
       "      <th></th>\n",
       "      <th>ID</th>\n",
       "      <th>BMI</th>\n",
       "      <th>PhysHlth</th>\n",
       "      <th>Age</th>\n",
       "      <th>HighBP</th>\n",
       "      <th>HighChol</th>\n",
       "      <th>CholCheck</th>\n",
       "      <th>Smoker</th>\n",
       "      <th>Stroke</th>\n",
       "      <th>HeartDiseaseorAttack</th>\n",
       "      <th>...</th>\n",
       "      <th>HvyAlcoholConsump</th>\n",
       "      <th>AnyHealthcare</th>\n",
       "      <th>NoDocbcCost</th>\n",
       "      <th>GenHlth</th>\n",
       "      <th>MentHlth</th>\n",
       "      <th>DiffWalk</th>\n",
       "      <th>Sex</th>\n",
       "      <th>Education</th>\n",
       "      <th>Income</th>\n",
       "      <th>Diabetes_binary</th>\n",
       "    </tr>\n",
       "  </thead>\n",
       "  <tbody>\n",
       "    <tr>\n",
       "      <th>0</th>\n",
       "      <td>114414</td>\n",
       "      <td>29.0</td>\n",
       "      <td>0.0</td>\n",
       "      <td>65 to 69</td>\n",
       "      <td>0</td>\n",
       "      <td>1</td>\n",
       "      <td>1</td>\n",
       "      <td>0</td>\n",
       "      <td>0</td>\n",
       "      <td>0</td>\n",
       "      <td>...</td>\n",
       "      <td>0</td>\n",
       "      <td>1</td>\n",
       "      <td>1</td>\n",
       "      <td>Poor</td>\n",
       "      <td>0</td>\n",
       "      <td>0</td>\n",
       "      <td>0</td>\n",
       "      <td>6</td>\n",
       "      <td>7</td>\n",
       "      <td>Non-Diabetic</td>\n",
       "    </tr>\n",
       "    <tr>\n",
       "      <th>1</th>\n",
       "      <td>168896</td>\n",
       "      <td>32.0</td>\n",
       "      <td>0.0</td>\n",
       "      <td>80 or older</td>\n",
       "      <td>1</td>\n",
       "      <td>1</td>\n",
       "      <td>1</td>\n",
       "      <td>0</td>\n",
       "      <td>0</td>\n",
       "      <td>0</td>\n",
       "      <td>...</td>\n",
       "      <td>0</td>\n",
       "      <td>1</td>\n",
       "      <td>0</td>\n",
       "      <td>Poor</td>\n",
       "      <td>0</td>\n",
       "      <td>0</td>\n",
       "      <td>0</td>\n",
       "      <td>Some College Degree</td>\n",
       "      <td>4</td>\n",
       "      <td>Non-Diabetic</td>\n",
       "    </tr>\n",
       "    <tr>\n",
       "      <th>2</th>\n",
       "      <td>68354</td>\n",
       "      <td>25.0</td>\n",
       "      <td>5.0</td>\n",
       "      <td>65 to 69</td>\n",
       "      <td>1</td>\n",
       "      <td>0</td>\n",
       "      <td>1</td>\n",
       "      <td>1</td>\n",
       "      <td>0</td>\n",
       "      <td>0</td>\n",
       "      <td>...</td>\n",
       "      <td>0</td>\n",
       "      <td>1</td>\n",
       "      <td>0</td>\n",
       "      <td>Fair</td>\n",
       "      <td>0</td>\n",
       "      <td>0</td>\n",
       "      <td>1</td>\n",
       "      <td>6</td>\n",
       "      <td>2</td>\n",
       "      <td>Non-Diabetic</td>\n",
       "    </tr>\n",
       "    <tr>\n",
       "      <th>3</th>\n",
       "      <td>121194</td>\n",
       "      <td>24.0</td>\n",
       "      <td>0.0</td>\n",
       "      <td>80 or older</td>\n",
       "      <td>1</td>\n",
       "      <td>0</td>\n",
       "      <td>1</td>\n",
       "      <td>0</td>\n",
       "      <td>0</td>\n",
       "      <td>0</td>\n",
       "      <td>...</td>\n",
       "      <td>0</td>\n",
       "      <td>1</td>\n",
       "      <td>0</td>\n",
       "      <td>Very Good</td>\n",
       "      <td>0</td>\n",
       "      <td>1</td>\n",
       "      <td>0</td>\n",
       "      <td>Advanced Degree</td>\n",
       "      <td>5</td>\n",
       "      <td>Non-Diabetic</td>\n",
       "    </tr>\n",
       "    <tr>\n",
       "      <th>4</th>\n",
       "      <td>141150</td>\n",
       "      <td>31.0</td>\n",
       "      <td>0.0</td>\n",
       "      <td>25 to 29</td>\n",
       "      <td>0</td>\n",
       "      <td>0</td>\n",
       "      <td>1</td>\n",
       "      <td>0</td>\n",
       "      <td>0</td>\n",
       "      <td>1</td>\n",
       "      <td>...</td>\n",
       "      <td>0</td>\n",
       "      <td>1</td>\n",
       "      <td>0</td>\n",
       "      <td>Very Good</td>\n",
       "      <td>5</td>\n",
       "      <td>0</td>\n",
       "      <td>0</td>\n",
       "      <td>6</td>\n",
       "      <td>6</td>\n",
       "      <td>Diabetic</td>\n",
       "    </tr>\n",
       "  </tbody>\n",
       "</table>\n",
       "<p>5 rows × 23 columns</p>\n",
       "</div>"
      ]
     },
     "execution_count": 47,
     "metadata": {},
     "output_type": "execute_result"
    }
   ],
   "execution_count": 47
  }
 ],
 "metadata": {
  "kernelspec": {
   "display_name": ".venv",
   "language": "python",
   "name": "python3"
  },
  "language_info": {
   "codemirror_mode": {
    "name": "ipython",
    "version": 2
   },
   "file_extension": ".py",
   "mimetype": "text/x-python",
   "name": "python",
   "nbconvert_exporter": "python",
   "pygments_lexer": "ipython2",
   "version": "3.11.2"
  }
 },
 "nbformat": 4,
 "nbformat_minor": 5
}
